{
  "cells": [
    {
      "cell_type": "code",
      "execution_count": null,
      "metadata": {
        "id": "r9ZA_tULUKY9"
      },
      "outputs": [],
      "source": [
        "import psycopg2"
      ]
    },
    {
      "cell_type": "code",
      "execution_count": null,
      "metadata": {
        "colab": {
          "base_uri": "https://localhost:8080/"
        },
        "id": "yRjYlwjoWGZt",
        "outputId": "aa7fddf5-de98-48c9-da32-5faba57dab09"
      },
      "outputs": [
        {
          "name": "stdout",
          "output_type": "stream",
          "text": [
            "Connection Successful\n"
          ]
        }
      ],
      "source": [
        "# Make connection to the database\n",
        "dbname = \"postgres\"\n",
        "user = \"postgres\"\n",
        "password = \"hello123\"\n",
        "host = \"apprentice-training-2023-rds.cth7tqaptja4.us-west-1.rds.amazonaws.com\"\n",
        "\n",
        "# Establish a connection\n",
        "try:\n",
        "  connection = psycopg2.connect(\n",
        "      dbname=dbname,\n",
        "      user=user,\n",
        "      password=password,\n",
        "      host=host\n",
        "      )\n",
        "  print(\"Connection Successful\")\n",
        "except:\n",
        "  print(\"Connection Failed\")"
      ]
    },
    {
      "cell_type": "code",
      "execution_count": null,
      "metadata": {
        "id": "H6wfzub2WTjx"
      },
      "outputs": [],
      "source": [
        "cursor = connection.cursor()"
      ]
    },
    {
      "cell_type": "code",
      "execution_count": null,
      "metadata": {
        "id": "P9cEdqxzan5X"
      },
      "outputs": [],
      "source": [
        "create_table_query = \"\"\"\n",
        "CREATE TABLE IF NOT EXISTS sushan_testDataTable_etl (\n",
        "    CELL_VALUE FLOAT,\n",
        "    DATA_TYPE_CODE VARCHAR(50),\n",
        "    ERROR_DATA VARCHAR(10),\n",
        "    CATEGORY_CODE VARCHAR(50),\n",
        "    SEASONALLY_ADJ VARCHAR(10),\n",
        "    TIME VARCHAR\n",
        ");\n",
        "\"\"\""
      ]
    },
    {
      "cell_type": "code",
      "execution_count": null,
      "metadata": {
        "id": "N33joAHhat9e"
      },
      "outputs": [],
      "source": [
        "cursor.execute(create_table_query)\n",
        "connection.commit()"
      ]
    }
  ],
  "metadata": {
    "colab": {
      "provenance": []
    },
    "kernelspec": {
      "display_name": "Python 3",
      "name": "python3"
    },
    "language_info": {
      "name": "python"
    }
  },
  "nbformat": 4,
  "nbformat_minor": 0
}
